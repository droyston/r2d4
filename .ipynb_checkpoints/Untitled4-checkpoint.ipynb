{
 "metadata": {
  "name": "",
  "signature": "sha256:989969e30087182ab3a601442e253a9d6252ec509c008dc6805780deeb87f6f6"
 },
 "nbformat": 3,
 "nbformat_minor": 0,
 "worksheets": [
  {
   "cells": [
    {
     "cell_type": "code",
     "collapsed": false,
     "input": [
      "#!/usr/bin/env python2\n",
      "# -*- coding: utf-8 -*-\n",
      "from __future__ import division  # so that 1/3=0.333 instead of 1/3=0\n",
      "from psychopy import visual, core, data, event, logging, gui\n",
      "from psychopy.constants import *  # things like STARTED, FINISHED\n",
      "import pandas as pd\n",
      "import numpy as np  # whole numpy lib is available, prepend 'np.'\n",
      "from numpy import sin, cos, tan, log, log10, pi, average, sqrt, std, deg2rad, rad2deg, linspace, asarray\n",
      "from numpy.random import random, randint, normal, shuffle\n",
      "import os  # handy system and path functions\n",
      "import statsmodels.formula.api as sm\n",
      "import matplotlib.pyplot as plt\n",
      "import seaborn as sns\n",
      "import scipy.io\n",
      "\n",
      "\n",
      "corr_thresh = 0.1\n",
      "dfStims = pd.DataFrame\n",
      "sequence_img_ids = []\n",
      "img_dict = {2: 'image_folder/stim_2.png', 3: 'image_folder/stim_3.png', 4: 'image_folder/stim_4.png', 5: 'image_folder/stim_5.png'}\n",
      "key_dict = {2:'2', 3:'3', 4:'4', 5:'5'}\n",
      "\n",
      "trial_types = np.asarray([2, 3, 4, 5])\n",
      "trial_IDs = np.asarray(range(4))\n",
      "trial_freq = np.asarray([12, 12, 12, 12])\n",
      "iti_range = np.asarray([2, 2, 2, 2, 3, 3, 3, 4, 5, 6, 7, 8])\n",
      "\n",
      "n_post = 3\n",
      "t_vec = []\n",
      "iti_vec = []\n",
      "tid_vec = []\n",
      "\n",
      "isDone = 0\n",
      "for tt in range(0,len(trial_types)):\n",
      "    t_vec = np.repeat(trial_types,12)\n",
      "    iti_vec = np.tile(iti_range,4)\n",
      "\n",
      "np.random.shuffle(t_vec)\n",
      "np.random.shuffle(iti_vec)\n",
      "vec = [0]\n",
      "id_vec = vec\n"
     ],
     "language": "python",
     "metadata": {},
     "outputs": [],
     "prompt_number": 6
    },
    {
     "cell_type": "code",
     "collapsed": false,
     "input": [
      "iti_vec"
     ],
     "language": "python",
     "metadata": {},
     "outputs": [
      {
       "metadata": {},
       "output_type": "pyout",
       "prompt_number": 4,
       "text": [
        "array([5, 6, 3, 3, 3, 2, 2, 6, 8, 7, 7, 6, 7, 2, 2, 3, 2, 2, 3, 2, 8, 8, 2,\n",
        "       3, 5, 2, 2, 3, 8, 4, 3, 2, 2, 4, 3, 3, 2, 3, 7, 6, 2, 3, 2, 4, 4, 2,\n",
        "       5, 5])"
       ]
      }
     ],
     "prompt_number": 4
    },
    {
     "cell_type": "code",
     "collapsed": false,
     "input": [
      "t_vec"
     ],
     "language": "python",
     "metadata": {},
     "outputs": [
      {
       "metadata": {},
       "output_type": "pyout",
       "prompt_number": 5,
       "text": [
        "array([3, 5, 5, 2, 2, 5, 5, 4, 3, 5, 3, 2, 4, 3, 2, 5, 3, 2, 2, 5, 4, 4, 3,\n",
        "       2, 2, 2, 4, 4, 4, 2, 5, 5, 3, 4, 4, 2, 5, 5, 3, 3, 3, 4, 4, 5, 3, 2,\n",
        "       3, 4])"
       ]
      }
     ],
     "prompt_number": 5
    },
    {
     "cell_type": "code",
     "collapsed": false,
     "input": [],
     "language": "python",
     "metadata": {},
     "outputs": []
    }
   ],
   "metadata": {}
  }
 ]
}