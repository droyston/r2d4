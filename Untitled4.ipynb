{
 "metadata": {
  "name": "",
  "signature": "sha256:0628bc5bbe37e5225eaa5253c5217b3e777a4f811886163e13fc70fea26c2555"
 },
 "nbformat": 3,
 "nbformat_minor": 0,
 "worksheets": [
  {
   "cells": [
    {
     "cell_type": "code",
     "collapsed": false,
     "input": [
      "#!/usr/bin/env python2\n",
      "# -*- coding: utf-8 -*-\n",
      "from __future__ import division  # so that 1/3=0.333 instead of 1/3=0\n",
      "from psychopy import visual, core, data, event, logging, gui\n",
      "from psychopy.constants import *  # things like STARTED, FINISHED\n",
      "import pandas as pd\n",
      "import numpy as np  # whole numpy lib is available, prepend 'np.'\n",
      "from numpy import sin, cos, tan, log, log10, pi, average, sqrt, std, deg2rad, rad2deg, linspace, asarray\n",
      "from numpy.random import random, randint, normal, shuffle\n",
      "import os  # handy system and path functions\n",
      "import statsmodels.formula.api as sm\n",
      "import matplotlib.pyplot as plt\n",
      "import seaborn as sns\n",
      "import scipy.io\n",
      "corr_thresh = 0.1\n",
      "dfStims = pd.DataFrame\n",
      "sequence_img_ids = []\n",
      "img_dict = {2: 'image_folder/stim_2.png', 3: 'image_folder/stim_3.png', 4: 'image_folder/stim_4.png', 5: 'image_folder/stim_5.png'}\n",
      "key_dict = {2:'2', 3:'3', 4:'4', 5:'5'}\n",
      "\n",
      "isDone = 0\n",
      "while not isDone:\n",
      "    trial_types = np.asarray([2, 3, 4, 5])\n",
      "    trial_IDs = np.asarray(range(4))\n",
      "    trial_freq = np.asarray([12, 12, 12, 12])\n",
      "    iti_range = np.asarray([2, 2, 2, 2, 3, 3, 3, 4, 5, 6, 7, 8])\n",
      "\n",
      "    n_post = 3\n",
      "    t_vec = []\n",
      "    iti_vec = []\n",
      "    tid_vec = []\n",
      "\n",
      "    for tt in range(0,len(trial_types)):\n",
      "        t_vec = np.repeat(trial_types,12)\n",
      "        iti_vec = np.tile(iti_range,4)\n",
      "\n",
      "    np.random.shuffle(t_vec)\n",
      "    np.random.shuffle(iti_vec)\n",
      "    vec = [0]\n",
      "    id_vec = vec\n",
      "\n",
      "    for t in range(0, len(t_vec)):\n",
      "        vec = vec + [t_vec[t]] +  np.repeat(0,iti_vec[t]).tolist()\n",
      "    vec = vec + [0,0,0]\n",
      "    dfStims = pd.DataFrame()\n",
      "    X = np.zeros((len(vec),len(trial_types)))\n",
      "    ons = np.zeros((12,4))\n",
      "    for c in trial_types:\n",
      "        a = np.where(vec==c)[0]\n",
      "        ons[:,c-2] = a*2\n",
      "        for indx in range(0, len(a)):\n",
      "            name = a[indx]\n",
      "            X[a[indx]][c-2]= 1\n",
      "\n",
      "    df=pd.DataFrame(X)\n",
      "    cxy = df.corr()\n",
      "    cxy = abs(np.tril(cxy, k=-1))\n",
      "    if cxy.max() < corr_thresh:\n",
      "        isDone = 1\n",
      "\n",
      "for x in range(0,len(vec)):\n",
      "    if vec[x] == 0:\n",
      "        sequence_img_ids.append('image_folder/skip.png')\n",
      "    elif vec[x] != 0:\n",
      "        sequence_img_ids.append(img_dict[vec[x]])\n",
      "\n",
      "id_vec = vec\n",
      "t_vec = range(0,480,2)\n",
      "dfStims['trial_img'] = sequence_img_ids\n",
      "dfStims['trial_ans'] = vec\n"
     ],
     "language": "python",
     "metadata": {},
     "outputs": [],
     "prompt_number": 8
    },
    {
     "cell_type": "code",
     "collapsed": false,
     "input": [
      "print len(vec)"
     ],
     "language": "python",
     "metadata": {},
     "outputs": [
      {
       "output_type": "stream",
       "stream": "stdout",
       "text": [
        "240\n"
       ]
      }
     ],
     "prompt_number": 14
    },
    {
     "cell_type": "code",
     "collapsed": false,
     "input": [
      "t_vec"
     ],
     "language": "python",
     "metadata": {},
     "outputs": [
      {
       "metadata": {},
       "output_type": "pyout",
       "prompt_number": 5,
       "text": [
        "array([3, 5, 5, 2, 2, 5, 5, 4, 3, 5, 3, 2, 4, 3, 2, 5, 3, 2, 2, 5, 4, 4, 3,\n",
        "       2, 2, 2, 4, 4, 4, 2, 5, 5, 3, 4, 4, 2, 5, 5, 3, 3, 3, 4, 4, 5, 3, 2,\n",
        "       3, 4])"
       ]
      }
     ],
     "prompt_number": 5
    },
    {
     "cell_type": "code",
     "collapsed": false,
     "input": [],
     "language": "python",
     "metadata": {},
     "outputs": []
    }
   ],
   "metadata": {}
  }
 ]
}